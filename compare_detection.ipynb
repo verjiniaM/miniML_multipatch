{
 "cells": [
  {
   "cell_type": "code",
   "execution_count": 1,
   "metadata": {},
   "outputs": [],
   "source": [
    "import sys\n",
    "import os\n",
    "sys.path.append('../miniML_multipatch/core/')\n",
    "\n",
    "from miniML import MiniTrace, EventDetection\n",
    "import matplotlib.pyplot as plt\n",
    "import numpy as np\n",
    "import pandas as pd\n",
    "import ast\n",
    "import matplotlib"
   ]
  },
  {
   "cell_type": "code",
   "execution_count": 2,
   "metadata": {},
   "outputs": [],
   "source": [
    "# local\n",
    "model_1 = './models/transfer_learning/GC_mEPSP/lstm_transfer.h5'\n",
    "model_2 = './models/transfer_learning/human_pyramids_L2_3/lstm_transfer_oct_2024.h5'\n",
    "\n",
    "# server\n",
    "# model_1 = './models/GC_lstm_model.h5'\n",
    "# model_2 = './models/human_pyramids_L2_3/lstm_transfer_oct_2024.h5'"
   ]
  },
  {
   "cell_type": "code",
   "execution_count": 3,
   "metadata": {},
   "outputs": [],
   "source": [
    "perfect_traces_df = pd.read_excel('/Users/verjim/laptop_D_17.01.2022/Schmitz_lab/results/human/data/summary_data_tables/events/perfect_traces.xlsx')\n",
    "patcher_dict = {'Verji':'data_verji/', 'Rosie':'data_rosie/'}\n",
    "\n",
    "path = '/Users/verjim/laptop_D_17.01.2022/Schmitz_lab/data/human/'\n",
    "scaling = 1 \n",
    "unit = 'pA'\n",
    "\n",
    "# training dataset includes traces until a = 12\n",
    "a = 13\n",
    "\n",
    "filename  = path + patcher_dict[perfect_traces_df.patcher[a]] + perfect_traces_df['OP'][a] + '/' + perfect_traces_df['Name of recording'][a]\n",
    "chan = perfect_traces_df.cell_ch.values[a]\n",
    "swps_keep = ast.literal_eval(perfect_traces_df.swps_to_analyse.values[a])\n",
    "swps_delete = list(set(range(30)) - set(swps_keep))\n",
    "\n",
    "win_size = 3000\n",
    "threshold = 0.5\n",
    "event_direction = 'negative'\n",
    "training_direction = 'negative'\n",
    "\n",
    "\n",
    "trace = MiniTrace.from_axon_file_MP(filepath = filename, channel = chan)\n"
   ]
  },
  {
   "cell_type": "code",
   "execution_count": 4,
   "metadata": {},
   "outputs": [
    {
     "name": "stdout",
     "output_type": "stream",
     "text": [
      "Model loaded from ./models/transfer_learning/GC_mEPSP/lstm_transfer.h5\n"
     ]
    },
    {
     "ename": "",
     "evalue": "",
     "output_type": "error",
     "traceback": [
      "\u001b[1;31mThe Kernel crashed while executing code in the current cell or a previous cell. \n",
      "\u001b[1;31mPlease review the code in the cell(s) to identify a possible cause of the failure. \n",
      "\u001b[1;31mClick <a href='https://aka.ms/vscodeJupyterKernelCrash'>here</a> for more info. \n",
      "\u001b[1;31mView Jupyter <a href='command:jupyter.viewOutput'>log</a> for further details."
     ]
    }
   ],
   "source": [
    "detection_1 = EventDetection(data = trace,\n",
    "                           model_path = model_1,\n",
    "                           window_size = win_size,\n",
    "                           model_threshold = threshold,\n",
    "                           batch_size = 512,\n",
    "                           event_direction = event_direction,\n",
    "                           training_direction = training_direction,\n",
    "                           compile_model = True)\n",
    "\n",
    "detection_1.detect_events(eval = True, convolve_win = 20, resample_to_600 = True)"
   ]
  },
  {
   "cell_type": "code",
   "execution_count": 1,
   "metadata": {},
   "outputs": [
    {
     "ename": "NameError",
     "evalue": "name 'EventDetection' is not defined",
     "output_type": "error",
     "traceback": [
      "\u001b[0;31m---------------------------------------------------------------------------\u001b[0m",
      "\u001b[0;31mNameError\u001b[0m                                 Traceback (most recent call last)",
      "Cell \u001b[0;32mIn[1], line 1\u001b[0m\n\u001b[0;32m----> 1\u001b[0m detection_2 \u001b[38;5;241m=\u001b[39m \u001b[43mEventDetection\u001b[49m(data \u001b[38;5;241m=\u001b[39m trace,\n\u001b[1;32m      2\u001b[0m                            model_path \u001b[38;5;241m=\u001b[39m model_2,\n\u001b[1;32m      3\u001b[0m                            window_size \u001b[38;5;241m=\u001b[39m win_size,\n\u001b[1;32m      4\u001b[0m                            model_threshold \u001b[38;5;241m=\u001b[39m threshold,\n\u001b[1;32m      5\u001b[0m                            batch_size \u001b[38;5;241m=\u001b[39m \u001b[38;5;241m512\u001b[39m,\n\u001b[1;32m      6\u001b[0m                            event_direction \u001b[38;5;241m=\u001b[39m event_direction,\n\u001b[1;32m      7\u001b[0m                            training_direction \u001b[38;5;241m=\u001b[39m training_direction,\n\u001b[1;32m      8\u001b[0m                            compile_model \u001b[38;5;241m=\u001b[39m \u001b[38;5;28;01mTrue\u001b[39;00m)\n\u001b[1;32m     10\u001b[0m detection_2\u001b[38;5;241m.\u001b[39mdetect_events(\u001b[38;5;28meval\u001b[39m \u001b[38;5;241m=\u001b[39m \u001b[38;5;28;01mTrue\u001b[39;00m, convolve_win \u001b[38;5;241m=\u001b[39m \u001b[38;5;241m20\u001b[39m, resample_to_600 \u001b[38;5;241m=\u001b[39m \u001b[38;5;28;01mTrue\u001b[39;00m)\n",
      "\u001b[0;31mNameError\u001b[0m: name 'EventDetection' is not defined"
     ]
    }
   ],
   "source": [
    "detection_2 = EventDetection(data = trace,\n",
    "                           model_path = model_2,\n",
    "                           window_size = win_size,\n",
    "                           model_threshold = threshold,\n",
    "                           batch_size = 512,\n",
    "                           event_direction = event_direction,\n",
    "                           training_direction = training_direction,\n",
    "                           compile_model = True)\n",
    "\n",
    "detection_2.detect_events(eval = True, convolve_win = 20, resample_to_600 = True)"
   ]
  },
  {
   "cell_type": "code",
   "execution_count": 46,
   "metadata": {},
   "outputs": [],
   "source": [
    "%matplotlib qt\n",
    "fig, axs = plt.subplots(3, 1, sharex=True)\n",
    "\n",
    "prediction_x = np.arange(0, len(detection_1.prediction)) * detection_1.stride_length * trace.sampling\n",
    "\n",
    "\n",
    "axs[0].plot(prediction_x, detection_1.prediction, c='k', alpha=0.7, label=f'{model_1}')\n",
    "axs[0].plot(prediction_x, detection_2.prediction, c='b', alpha=0.7, label=f'{model_1}')\n",
    "axs[0].legend()\n",
    "\n",
    "axs[1].plot(trace.time_axis, trace.data, c='k')\n",
    "axs[1].scatter(detection_1.event_peak_times, trace.data[detection_1.event_peak_locations], c='orange', zorder=2)\n",
    "\n",
    "axs[2].plot(trace.time_axis, trace.data, c='b')\n",
    "axs[2].scatter(detection_2.event_peak_times, trace.data[detection_2.event_peak_locations], c='orange', zorder=2)\n",
    "plt.show()\n"
   ]
  },
  {
   "cell_type": "code",
   "execution_count": null,
   "metadata": {},
   "outputs": [],
   "source": []
  }
 ],
 "metadata": {
  "kernelspec": {
   "display_name": "Python 3",
   "language": "python",
   "name": "python3"
  },
  "language_info": {
   "codemirror_mode": {
    "name": "ipython",
    "version": 3
   },
   "file_extension": ".py",
   "mimetype": "text/x-python",
   "name": "python",
   "nbconvert_exporter": "python",
   "pygments_lexer": "ipython3",
   "version": "3.10.14"
  },
  "orig_nbformat": 4
 },
 "nbformat": 4,
 "nbformat_minor": 2
}
