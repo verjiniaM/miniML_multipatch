{
 "cells": [
  {
   "cell_type": "code",
   "execution_count": 41,
   "metadata": {},
   "outputs": [],
   "source": [
    "import sys\n",
    "sys.path.append('../../../miniML/core/')\n",
    "\n",
    "\n",
    "from miniML import MiniTrace, EventDetection\n",
    "import matplotlib.pyplot as plt\n",
    "import numpy as np\n",
    "import matplotlib"
   ]
  },
  {
   "cell_type": "code",
   "execution_count": 42,
   "metadata": {},
   "outputs": [],
   "source": [
    "model_1 = './example_models/model_1/lstm_transfer.h5'\n",
    "model_2 = './example_models/model_2/lstm_transfer.h5'"
   ]
  },
  {
   "cell_type": "code",
   "execution_count": 43,
   "metadata": {},
   "outputs": [],
   "source": [
    "filename = './example_data/23914004.abf'\n",
    "\n",
    "win_size = 3000\n",
    "threshold = 0.5\n",
    "event_direction = 'positive'\n",
    "training_direction = 'negative'\n",
    "\n",
    "\n",
    "trace = MiniTrace.from_axon_file(filepath=filename, channel=3)\n",
    "trace.data = trace.data[0:500000]"
   ]
  },
  {
   "cell_type": "code",
   "execution_count": 44,
   "metadata": {},
   "outputs": [
    {
     "name": "stdout",
     "output_type": "stream",
     "text": [
      "Model loaded from ./example_models/model_1/lstm_transfer.h5\n",
      "10/10 [==============================] - 1s 37ms/step\n",
      "\n",
      "Event statistics:\n",
      "-------------------------\n",
      "    Number of events: 121\n",
      "    Average score: 0.933\n",
      "    Event frequency: 4.8400 Hz\n",
      "    Mean amplitude: 0.4213 mV\n",
      "    Median amplitude: 0.3149 mV\n",
      "    Std amplitude: 0.4259 mV\n",
      "    CV amplitude: 1.011\n",
      "    Mean charge: 0.01334 pC\n",
      "    CV charge: 1.093\n",
      "    Mean 10-90 risetime: 5.209 ms\n",
      "    Mean half decay time: 17.786 ms\n",
      "    Tau decay: 24.947 ms\n",
      "-------------------------\n"
     ]
    }
   ],
   "source": [
    "detection_1 = EventDetection(data=trace,\n",
    "                           model_path=model_1,\n",
    "                           window_size=win_size,\n",
    "                           model_threshold=threshold,\n",
    "                           batch_size=512,\n",
    "                           event_direction=event_direction,\n",
    "                           training_direction=training_direction,\n",
    "                           compile_model=True)\n",
    "\n",
    "detection_1.detect_events(eval=True, convolve_win=20, resample_to_600=True)"
   ]
  },
  {
   "cell_type": "code",
   "execution_count": 45,
   "metadata": {},
   "outputs": [
    {
     "name": "stdout",
     "output_type": "stream",
     "text": [
      "Model loaded from ./example_models/model_2/lstm_transfer.h5\n",
      "10/10 [==============================] - 1s 41ms/step\n",
      "\n",
      "Event statistics:\n",
      "-------------------------\n",
      "    Number of events: 121\n",
      "    Average score: 0.965\n",
      "    Event frequency: 4.8400 Hz\n",
      "    Mean amplitude: 0.4250 mV\n",
      "    Median amplitude: 0.3209 mV\n",
      "    Std amplitude: 0.4310 mV\n",
      "    CV amplitude: 1.014\n",
      "    Mean charge: 0.01367 pC\n",
      "    CV charge: 1.100\n",
      "    Mean 10-90 risetime: 5.312 ms\n",
      "    Mean half decay time: 17.719 ms\n",
      "    Tau decay: 23.497 ms\n",
      "-------------------------\n"
     ]
    }
   ],
   "source": [
    "detection_2 = EventDetection(data=trace,\n",
    "                           model_path=model_2,\n",
    "                           window_size=win_size,\n",
    "                           model_threshold=threshold,\n",
    "                           batch_size=512,\n",
    "                           event_direction=event_direction,\n",
    "                           training_direction=training_direction,\n",
    "                           compile_model=True)\n",
    "\n",
    "detection_2.detect_events(eval=True, convolve_win=20, resample_to_600=True)"
   ]
  },
  {
   "cell_type": "code",
   "execution_count": 46,
   "metadata": {},
   "outputs": [],
   "source": [
    "%matplotlib qt\n",
    "fig, axs = plt.subplots(3, 1, sharex=True)\n",
    "\n",
    "prediction_x = np.arange(0, len(detection_1.prediction)) * detection_1.stride_length * trace.sampling\n",
    "\n",
    "\n",
    "axs[0].plot(prediction_x, detection_1.prediction, c='k', alpha=0.7, label=f'{model_1}')\n",
    "axs[0].plot(prediction_x, detection_2.prediction, c='b', alpha=0.7, label=f'{model_1}')\n",
    "axs[0].legend()\n",
    "\n",
    "axs[1].plot(trace.time_axis, trace.data, c='k')\n",
    "axs[1].scatter(detection_1.event_peak_times, trace.data[detection_1.event_peak_locations], c='orange', zorder=2)\n",
    "\n",
    "axs[2].plot(trace.time_axis, trace.data, c='b')\n",
    "axs[2].scatter(detection_2.event_peak_times, trace.data[detection_2.event_peak_locations], c='orange', zorder=2)\n",
    "plt.show()\n"
   ]
  }
 ],
 "metadata": {
  "kernelspec": {
   "display_name": "Python 3.9.13 ('base')",
   "language": "python",
   "name": "python3"
  },
  "language_info": {
   "codemirror_mode": {
    "name": "ipython",
    "version": 3
   },
   "file_extension": ".py",
   "mimetype": "text/x-python",
   "name": "python",
   "nbconvert_exporter": "python",
   "pygments_lexer": "ipython3",
   "version": "3.9.13"
  },
  "orig_nbformat": 4,
  "vscode": {
   "interpreter": {
    "hash": "c0b30f0f8d428f0aa92dffd880d0c29755819e8cdb7210d4ad55fbdc1eb7b7ac"
   }
  }
 },
 "nbformat": 4,
 "nbformat_minor": 2
}
