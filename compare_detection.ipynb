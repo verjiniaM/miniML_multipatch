{
 "cells": [
  {
   "cell_type": "code",
   "execution_count": 1,
   "metadata": {},
   "outputs": [
    {
     "name": "stderr",
     "output_type": "stream",
     "text": [
      "2024-10-17 13:42:51.196240: I tensorflow/core/platform/cpu_feature_guard.cc:182] This TensorFlow binary is optimized to use available CPU instructions in performance-critical operations.\n",
      "To enable the following instructions: SSE4.1 SSE4.2, in other operations, rebuild TensorFlow with the appropriate compiler flags.\n"
     ]
    }
   ],
   "source": [
    "import sys\n",
    "import os\n",
    "sys.path.append('../miniML_multipatch/core/')\n",
    "\n",
    "from miniML import MiniTrace, EventDetection\n",
    "import matplotlib.pyplot as plt\n",
    "import numpy as np\n",
    "import pandas as pd\n",
    "import ast\n",
    "import matplotlib"
   ]
  },
  {
   "cell_type": "code",
   "execution_count": 2,
   "metadata": {},
   "outputs": [],
   "source": [
    "model_1 = './models/GC_lstm_model.h5'\n",
    "model_2 = './models/human_pyramids_L2_3/lstm_transfer_oct_2024.h5'"
   ]
  },
  {
   "cell_type": "code",
   "execution_count": 3,
   "metadata": {},
   "outputs": [],
   "source": [
    "perfect_traces_df = pd.read_excel('/Users/verjim/laptop_D_17.01.2022/Schmitz_lab/results/human/data/summary_data_tables/events/perfect_traces.xlsx')\n",
    "patcher_dict = {'Verji':'data_verji/', 'Rosie':'data_rosie/'}\n",
    "\n",
    "path = '/Users/verjim/laptop_D_17.01.2022/Schmitz_lab/data/human/'\n",
    "scaling = 1 \n",
    "unit = 'pA'\n",
    "\n",
    "# training dataset includes traces until a = 12\n",
    "a = 13\n",
    "\n",
    "filename  = path + patcher_dict[perfect_traces_df.patcher[a]] + perfect_traces_df['OP'][a] + '/' + perfect_traces_df['Name of recording'][a]\n",
    "chan = perfect_traces_df.cell_ch.values[a]\n",
    "swps_keep = ast.literal_eval(perfect_traces_df.swps_to_analyse.values[a])\n",
    "swps_delete = list(set(range(30)) - set(swps_keep))\n",
    "\n",
    "win_size = 3000\n",
    "threshold = 0.5\n",
    "event_direction = 'negative'\n",
    "training_direction = 'negative'\n",
    "\n",
    "\n",
    "trace = MiniTrace.from_axon_file_MP(filepath = filename, channel = chan)\n"
   ]
  },
  {
   "cell_type": "code",
   "execution_count": null,
   "metadata": {},
   "outputs": [],
   "source": [
    "detection_2 = EventDetection(data = trace,\n",
    "                           model_path = model_2,\n",
    "                           window_size = win_size,\n",
    "                           model_threshold = threshold,\n",
    "                           batch_size = 512,\n",
    "                           event_direction = event_direction,\n",
    "                           training_direction = training_direction,\n",
    "                           compile_model = True)\n",
    "\n",
    "detection_2.detect_events(eval = True, convolve_win = 20, resample_to_600 = True)"
   ]
  },
  {
   "cell_type": "code",
   "execution_count": 46,
   "metadata": {},
   "outputs": [],
   "source": [
    "%matplotlib qt\n",
    "fig, axs = plt.subplots(3, 1, sharex=True)\n",
    "\n",
    "prediction_x = np.arange(0, len(detection_1.prediction)) * detection_1.stride_length * trace.sampling\n",
    "\n",
    "\n",
    "axs[0].plot(prediction_x, detection_1.prediction, c='k', alpha=0.7, label=f'{model_1}')\n",
    "axs[0].plot(prediction_x, detection_2.prediction, c='b', alpha=0.7, label=f'{model_1}')\n",
    "axs[0].legend()\n",
    "\n",
    "axs[1].plot(trace.time_axis, trace.data, c='k')\n",
    "axs[1].scatter(detection_1.event_peak_times, trace.data[detection_1.event_peak_locations], c='orange', zorder=2)\n",
    "\n",
    "axs[2].plot(trace.time_axis, trace.data, c='b')\n",
    "axs[2].scatter(detection_2.event_peak_times, trace.data[detection_2.event_peak_locations], c='orange', zorder=2)\n",
    "plt.show()\n"
   ]
  }
 ],
 "metadata": {
  "kernelspec": {
   "display_name": "miniML_clean",
   "language": "python",
   "name": "python3"
  },
  "language_info": {
   "codemirror_mode": {
    "name": "ipython",
    "version": 3
   },
   "file_extension": ".py",
   "mimetype": "text/x-python",
   "name": "python",
   "nbconvert_exporter": "python",
   "pygments_lexer": "ipython3",
   "version": "3.11.9"
  },
  "orig_nbformat": 4
 },
 "nbformat": 4,
 "nbformat_minor": 2
}
