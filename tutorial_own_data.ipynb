{
 "cells": [
  {
   "cell_type": "markdown",
   "metadata": {
    "id": "29rvVnGxD5G5"
   },
   "source": [
    "# **miniML Tutorial**\n",
    "\n"
   ]
  },
  {
   "cell_type": "markdown",
   "metadata": {
    "id": "UBvuRpqp_Lg6"
   },
   "source": [
    "## Setting up"
   ]
  },
  {
   "cell_type": "markdown",
   "metadata": {
    "id": "LKrexCBtENmB"
   },
   "source": [
    "We begin by importing the required parts of the miniML package."
   ]
  },
  {
   "cell_type": "markdown",
   "metadata": {
    "id": "ZvRMFttL_DIv"
   },
   "source": [
    "## Running miniML"
   ]
  },
  {
   "cell_type": "code",
   "execution_count": 1,
   "metadata": {},
   "outputs": [
    {
     "name": "stdout",
     "output_type": "stream",
     "text": [
      "2.15.0\n"
     ]
    }
   ],
   "source": [
    "import sys\n",
    "sys.path.append('./core/')\n",
    "from miniML import MiniTrace, EventDetection\n",
    "import tensorflow as tf\n",
    "print(tf.__version__)"
   ]
  },
  {
   "cell_type": "code",
   "execution_count": 1,
   "metadata": {},
   "outputs": [],
   "source": [
    "filename = '/Users/verjim/laptop_D_17.01.2022/Schmitz_lab/data/human/data_verji/OP230808/23808033.abf' #'./example_data/gc_mini_trace.h5'\n",
    "chan = 4\n",
    "swps_delete = list(range(1, 29))\n",
    "scaling = 1\n",
    "unit = 'pA'\n",
    "win_size = 750\n",
    "stride = int(win_size/30)"
   ]
  },
  {
   "cell_type": "markdown",
   "metadata": {
    "id": "HCUuvqluEUuM"
   },
   "source": [
    "For the actual data analysis, we first need to load the data and create a miniML *MiniTrace* object. Currently accepted file formats are HDF5, Axon ABF and HEKA DAT. In this example, we load the dataset ['mini_data'] from an .h5 file. Data can be scaled for convenience. Provide the sampling interval (in seconds, e.g., *sampling=1e-5*) if the sampling rate is not 50 kHz."
   ]
  },
  {
   "cell_type": "code",
   "execution_count": 3,
   "metadata": {
    "colab": {
     "base_uri": "https://localhost:8080/"
    },
    "id": "H-18mrVLhB0-",
    "outputId": "c1a73494-98ee-4f49-fac6-bd3d1478e7b2"
   },
   "outputs": [],
   "source": [
    "trace = MiniTrace.from_axon_file_MP(filepath = filename,\n",
    "                                    channel = chan,\n",
    "                                    scaling = scaling,\n",
    "                                    unit = unit,\n",
    "                                    sweeps_delete = swps_delete,\n",
    "                                    first_point = 0,\n",
    "                                    last_point = 5500)\n",
    "                                "
   ]
  },
  {
   "cell_type": "markdown",
   "metadata": {
    "id": "8i3FeKShC-K9"
   },
   "source": [
    "Let's plot and inspecet the loaded data:"
   ]
  },
  {
   "cell_type": "code",
   "execution_count": 4,
   "metadata": {
    "colab": {
     "base_uri": "https://localhost:8080/",
     "height": 449
    },
    "id": "8ViUMm9FDAct",
    "outputId": "f496f1a7-6687-4bce-a409-511639c92fe2"
   },
   "outputs": [
    {
     "data": {
      "image/png": "[encoded data removed]",
      "text/plain": [
       "<Figure size 640x480 with 1 Axes>"
      ]
     },
     "metadata": {},
     "output_type": "display_data"
    }
   ],
   "source": [
    "trace.plot_trace()"
   ]
  },
  {
   "cell_type": "markdown",
   "metadata": {
    "id": "5AScaHB6FXG7"
   },
   "source": [
    "Next, we need to create and initialize a miniML *EventDetection* object. Required arguments are a miniML MiniTrace object to work on and the path to a miniML model file. Optionally, the threshold for event detection can be adjusted (range, 0–1). The batch_size parameter can be changed to reduce runtime when running on a GPU (caveat: too large batch sizes can cause poor model prediction performance)."
   ]
  },
  {
   "cell_type": "code",
   "execution_count": 5,
   "metadata": {
    "colab": {
     "base_uri": "https://localhost:8080/"
    },
    "id": "SZlDa1yJFWet",
    "outputId": "f8ee15a4-ff0b-4bf3-f3cb-8344cc731621"
   },
   "outputs": [
    {
     "name": "stdout",
     "output_type": "stream",
     "text": [
      "Model loaded from ./models/transfer_learning/human_pyramids_L2_3/2024_Oct_29_lstm_transfer.h5\n"
     ]
    }
   ],
   "source": [
    "detection = EventDetection(data = trace,\n",
    "                        model_path='./models/transfer_learning/human_pyramids_L2_3/2024_Oct_29_lstm_transfer.h5',\n",
    "                        window_size = win_size,\n",
    "                        model_threshold = 0.5,\n",
    "                        batch_size = 512,\n",
    "                        event_direction = 'negative',\n",
    "                        training_direction = 'negative',\n",
    "                        compile_model = True)"
   ]
  },
  {
   "cell_type": "markdown",
   "metadata": {
    "id": "8tSPCaMkF6zV"
   },
   "source": [
    "To detect events, we have to call the **detect_events()** method. We can provide a stride length, i.e. numbers of samples the analysis window is shifted by for each iteration. Defaults to 20 (i.e., 1/30 of the window size used for model inference). Set the eval flag to **False** if you do not want to analyse the detected events."
   ]
  },
  {
   "cell_type": "code",
   "execution_count": 6,
   "metadata": {},
   "outputs": [
    {
     "ename": "",
     "evalue": "",
     "output_type": "error",
     "traceback": [
      "\u001b[1;31mThe Kernel crashed while executing code in the current cell or a previous cell. \n",
      "\u001b[1;31mPlease review the code in the cell(s) to identify a possible cause of the failure. \n",
      "\u001b[1;31mClick <a href='https://aka.ms/vscodeJupyterKernelCrash'>here</a> for more info. \n",
      "\u001b[1;31mView Jupyter <a href='command:jupyter.viewOutput'>log</a> for further details."
     ]
    }
   ],
   "source": [
    "detection.detect_events(stride=stride,\n",
    "                        eval = True, #\n",
    "                        convolve_win = 20, #the Hann wondow for filtering. presserving the peaks?\n",
    "                        resample_to_600 = True) #always true for transfer learning"
   ]
  },
  {
   "cell_type": "markdown",
   "metadata": {
    "id": "HUI1JSYY_Srt"
   },
   "source": [
    "## Inspect the results"
   ]
  },
  {
   "cell_type": "markdown",
   "metadata": {
    "id": "2Gr0WIp0GM52"
   },
   "source": [
    "After the event detection and analysis, we can create some plots. MiniML includes several plotting methods: \n",
    "\n",
    "**plot_prediction()** shows the model inference trace, optinally together with the data and marked events. Note that we plot a filtered version of the trace in this example.\n",
    "\n",
    "**plot_events()** creates a figure with all detected events overlaid. \n",
    "\n",
    "**plot_event_histogram()** plots a histogram of event amplitudes (optional: inter-event-intervals). Set *cumulative=True* for a cumulative probability plot."
   ]
  },
  {
   "cell_type": "code",
   "execution_count": null,
   "metadata": {
    "colab": {
     "base_uri": "https://localhost:8080/",
     "height": 1000
    },
    "id": "JJUrxT4ThemJ",
    "outputId": "fc29d36b-6d78-42b6-98af-f1fe3994bbe2"
   },
   "outputs": [],
   "source": [
    "detection.plot_prediction(include_data=True, plot_filtered_prediction=True, plot_filtered_trace=True)\n",
    "detection.plot_events()\n",
    "detection.plot_event_histogram(plot='amplitude', cumulative=False)"
   ]
  },
  {
   "cell_type": "markdown",
   "metadata": {
    "id": "kNeEbdhm_YyC"
   },
   "source": [
    "## Save results to file"
   ]
  },
  {
   "cell_type": "markdown",
   "metadata": {},
   "source": [
    "Finally, we can save the results to file for later use. The **save_to_pickle()** method saves the data in pickle format (essentially a python dictionary). If desired, the mini trace and the generated prediction trace can be saved as well. Note that this will increase file size."
   ]
  },
  {
   "cell_type": "code",
   "execution_count": null,
   "metadata": {},
   "outputs": [],
   "source": [
    "detection.save_to_pickle(filename='./example_data/results/gc_mini_trace_results.pickle', \n",
    "                         include_prediction=True, \n",
    "                         include_data=False)"
   ]
  },
  {
   "cell_type": "markdown",
   "metadata": {
    "id": "Ins2I_F3GRez"
   },
   "source": [
    "The **save_to_h5()** method saves the detected events and the individual event statistics to a specified HDF5 file. It also includes average results for amplitude, charge, frequency, etc."
   ]
  },
  {
   "cell_type": "code",
   "execution_count": null,
   "metadata": {
    "colab": {
     "base_uri": "https://localhost:8080/"
    },
    "id": "NU9IVQ2CGRpu",
    "outputId": "a51ab60e-fae1-4e29-ca27-147ccc4119df"
   },
   "outputs": [],
   "source": [
    "detection.save_to_h5('./example_data/results/gc_mini_trace_results.h5')"
   ]
  },
  {
   "cell_type": "markdown",
   "metadata": {
    "id": "BvaLMfav_AQV"
   },
   "source": [
    "In addition, results can be saved in a delimited text format using **save_to_csv()**. This methods takes a destination folder path and saves two .csv files containing event population statistics and individual event statistics, respectively."
   ]
  },
  {
   "cell_type": "code",
   "execution_count": null,
   "metadata": {
    "colab": {
     "base_uri": "https://localhost:8080/"
    },
    "id": "OWZh_Dyh_KQD",
    "outputId": "987b7472-cb12-4675-8c0e-78c6a76b12de"
   },
   "outputs": [],
   "source": [
    "detection.save_to_csv(path='./example_data/results', overwrite=True)"
   ]
  }
 ],
 "metadata": {
  "accelerator": "GPU",
  "colab": {
   "provenance": [],
   "toc_visible": true
  },
  "gpuClass": "standard",
  "kernelspec": {
   "display_name": "miniML_clean",
   "language": "python",
   "name": "python3"
  },
  "language_info": {
   "codemirror_mode": {
    "name": "ipython",
    "version": 3
   },
   "file_extension": ".py",
   "mimetype": "text/x-python",
   "name": "python",
   "nbconvert_exporter": "python",
   "pygments_lexer": "ipython3",
   "version": "3.10.14"
  }
 },
 "nbformat": 4,
 "nbformat_minor": 1
}
